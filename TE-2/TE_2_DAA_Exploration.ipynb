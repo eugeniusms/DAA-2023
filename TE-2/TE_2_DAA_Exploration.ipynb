{
 "cells": [
  {
   "cell_type": "markdown",
   "id": "6f7907c5",
   "metadata": {},
   "source": [
    "# Branch and Bounds"
   ]
  },
  {
   "cell_type": "code",
   "execution_count": 231,
   "id": "62e46557",
   "metadata": {},
   "outputs": [],
   "source": [
    "import numpy as np\n",
    "from sklearn.linear_model import Lasso"
   ]
  },
  {
   "cell_type": "code",
   "execution_count": 232,
   "id": "b5f0c09f",
   "metadata": {},
   "outputs": [],
   "source": [
    "data_x = np.array([ 26, 27, 28, 29, 30, 31, 32, 33 ])  "
   ]
  },
  {
   "cell_type": "code",
   "execution_count": 233,
   "id": "02c61efc",
   "metadata": {},
   "outputs": [],
   "source": [
    "running_time = np.array([\n",
    "    19.001473903656006,\n",
    "    19.703127145767212, \n",
    "    59.0526819229126,\n",
    "    137.59750819206238,\n",
    "    160.35367012023926,\n",
    "    352.1030330657959,\n",
    "    452.00767517089844,\n",
    "    738.891116142273,\n",
    "])"
   ]
  },
  {
   "cell_type": "code",
   "execution_count": 234,
   "id": "3715d3a7",
   "metadata": {},
   "outputs": [],
   "source": [
    "memory_used = np.array([ 14513, 15041, 15569, 16097, 16625, 17153, 17681, 18209 ])  "
   ]
  },
  {
   "cell_type": "code",
   "execution_count": 235,
   "id": "a560d5d0",
   "metadata": {},
   "outputs": [],
   "source": [
    "total_allocated_memory = np.array([ 16861, 17489, 18117, 18745, 19373, 20001, 20629, 21257 ])  "
   ]
  },
  {
   "cell_type": "markdown",
   "id": "b0225909",
   "metadata": {},
   "source": [
    "### Lasso Regression"
   ]
  },
  {
   "cell_type": "code",
   "execution_count": 236,
   "id": "0cad47be",
   "metadata": {},
   "outputs": [
    {
     "data": {
      "text/html": [
       "<style>#sk-container-id-28 {color: black;background-color: white;}#sk-container-id-28 pre{padding: 0;}#sk-container-id-28 div.sk-toggleable {background-color: white;}#sk-container-id-28 label.sk-toggleable__label {cursor: pointer;display: block;width: 100%;margin-bottom: 0;padding: 0.3em;box-sizing: border-box;text-align: center;}#sk-container-id-28 label.sk-toggleable__label-arrow:before {content: \"▸\";float: left;margin-right: 0.25em;color: #696969;}#sk-container-id-28 label.sk-toggleable__label-arrow:hover:before {color: black;}#sk-container-id-28 div.sk-estimator:hover label.sk-toggleable__label-arrow:before {color: black;}#sk-container-id-28 div.sk-toggleable__content {max-height: 0;max-width: 0;overflow: hidden;text-align: left;background-color: #f0f8ff;}#sk-container-id-28 div.sk-toggleable__content pre {margin: 0.2em;color: black;border-radius: 0.25em;background-color: #f0f8ff;}#sk-container-id-28 input.sk-toggleable__control:checked~div.sk-toggleable__content {max-height: 200px;max-width: 100%;overflow: auto;}#sk-container-id-28 input.sk-toggleable__control:checked~label.sk-toggleable__label-arrow:before {content: \"▾\";}#sk-container-id-28 div.sk-estimator input.sk-toggleable__control:checked~label.sk-toggleable__label {background-color: #d4ebff;}#sk-container-id-28 div.sk-label input.sk-toggleable__control:checked~label.sk-toggleable__label {background-color: #d4ebff;}#sk-container-id-28 input.sk-hidden--visually {border: 0;clip: rect(1px 1px 1px 1px);clip: rect(1px, 1px, 1px, 1px);height: 1px;margin: -1px;overflow: hidden;padding: 0;position: absolute;width: 1px;}#sk-container-id-28 div.sk-estimator {font-family: monospace;background-color: #f0f8ff;border: 1px dotted black;border-radius: 0.25em;box-sizing: border-box;margin-bottom: 0.5em;}#sk-container-id-28 div.sk-estimator:hover {background-color: #d4ebff;}#sk-container-id-28 div.sk-parallel-item::after {content: \"\";width: 100%;border-bottom: 1px solid gray;flex-grow: 1;}#sk-container-id-28 div.sk-label:hover label.sk-toggleable__label {background-color: #d4ebff;}#sk-container-id-28 div.sk-serial::before {content: \"\";position: absolute;border-left: 1px solid gray;box-sizing: border-box;top: 0;bottom: 0;left: 50%;z-index: 0;}#sk-container-id-28 div.sk-serial {display: flex;flex-direction: column;align-items: center;background-color: white;padding-right: 0.2em;padding-left: 0.2em;position: relative;}#sk-container-id-28 div.sk-item {position: relative;z-index: 1;}#sk-container-id-28 div.sk-parallel {display: flex;align-items: stretch;justify-content: center;background-color: white;position: relative;}#sk-container-id-28 div.sk-item::before, #sk-container-id-28 div.sk-parallel-item::before {content: \"\";position: absolute;border-left: 1px solid gray;box-sizing: border-box;top: 0;bottom: 0;left: 50%;z-index: -1;}#sk-container-id-28 div.sk-parallel-item {display: flex;flex-direction: column;z-index: 1;position: relative;background-color: white;}#sk-container-id-28 div.sk-parallel-item:first-child::after {align-self: flex-end;width: 50%;}#sk-container-id-28 div.sk-parallel-item:last-child::after {align-self: flex-start;width: 50%;}#sk-container-id-28 div.sk-parallel-item:only-child::after {width: 0;}#sk-container-id-28 div.sk-dashed-wrapped {border: 1px dashed gray;margin: 0 0.4em 0.5em 0.4em;box-sizing: border-box;padding-bottom: 0.4em;background-color: white;}#sk-container-id-28 div.sk-label label {font-family: monospace;font-weight: bold;display: inline-block;line-height: 1.2em;}#sk-container-id-28 div.sk-label-container {text-align: center;}#sk-container-id-28 div.sk-container {/* jupyter's `normalize.less` sets `[hidden] { display: none; }` but bootstrap.min.css set `[hidden] { display: none !important; }` so we also need the `!important` here to be able to override the default hidden behavior on the sphinx rendered scikit-learn.org. See: https://github.com/scikit-learn/scikit-learn/issues/21755 */display: inline-block !important;position: relative;}#sk-container-id-28 div.sk-text-repr-fallback {display: none;}</style><div id=\"sk-container-id-28\" class=\"sk-top-container\"><div class=\"sk-text-repr-fallback\"><pre>Lasso(alpha=0.01)</pre><b>In a Jupyter environment, please rerun this cell to show the HTML representation or trust the notebook. <br />On GitHub, the HTML representation is unable to render, please try loading this page with nbviewer.org.</b></div><div class=\"sk-container\" hidden><div class=\"sk-item\"><div class=\"sk-estimator sk-toggleable\"><input class=\"sk-toggleable__control sk-hidden--visually\" id=\"sk-estimator-id-28\" type=\"checkbox\" checked><label for=\"sk-estimator-id-28\" class=\"sk-toggleable__label sk-toggleable__label-arrow\">Lasso</label><div class=\"sk-toggleable__content\"><pre>Lasso(alpha=0.01)</pre></div></div></div></div></div>"
      ],
      "text/plain": [
       "Lasso(alpha=0.01)"
      ]
     },
     "execution_count": 236,
     "metadata": {},
     "output_type": "execute_result"
    }
   ],
   "source": [
    "# Bentuk matriks fitur\n",
    "X = data_x.reshape(-1, 1)\n",
    "\n",
    "# Buat model Lasso Regression untuk running time\n",
    "model_running_time = Lasso(alpha=0.01)  # Sesuaikan alpha sesuai kebutuhan\n",
    "model_running_time.fit(X, running_time)\n",
    "\n",
    "# Buat model Lasso Regression untuk memory used\n",
    "model_memory_used = Lasso(alpha=0.01)  # Sesuaikan alpha sesuai kebutuhan\n",
    "model_memory_used.fit(X, memory_used)\n",
    "\n",
    "# Buat model Lasso Regression untuk total allocated memory\n",
    "model_total_allocated_memory = Lasso(alpha=0.01)  # Sesuaikan alpha sesuai kebutuhan\n",
    "model_total_allocated_memory.fit(X, total_allocated_memory)"
   ]
  },
  {
   "cell_type": "code",
   "execution_count": 237,
   "id": "321d76b7",
   "metadata": {},
   "outputs": [],
   "source": [
    "# Tentukan nilai x yang ingin diprediksi\n",
    "nilai_x_prediksi = np.array([40, 80]) "
   ]
  },
  {
   "cell_type": "code",
   "execution_count": 238,
   "id": "25e65388",
   "metadata": {},
   "outputs": [],
   "source": [
    "# Lakukan prediksi untuk running time, memory used, dan total allocated memory\n",
    "prediksi_running_time = model_running_time.predict(nilai_x_prediksi.reshape(-1, 1))\n",
    "prediksi_memory_used = model_memory_used.predict(nilai_x_prediksi.reshape(-1, 1))\n",
    "prediksi_total_allocated_memory = model_total_allocated_memory.predict(nilai_x_prediksi.reshape(-1, 1))"
   ]
  },
  {
   "cell_type": "code",
   "execution_count": 239,
   "id": "e75fadcf",
   "metadata": {},
   "outputs": [
    {
     "name": "stdout",
     "output_type": "stream",
     "text": [
      "Prediksi untuk x = 40:\n",
      "  - Running Time: 1255.1509671020503\n",
      "  - Memory Used: 21904.98\n",
      "  - Total Allocated Memory: 25652.98\n",
      "\n",
      "Prediksi untuk x = 80:\n",
      "  - Running Time: 5113.483086698622\n",
      "  - Memory Used: 43024.90380952381\n",
      "  - Total Allocated Memory: 50772.90380952381\n",
      "\n"
     ]
    }
   ],
   "source": [
    "# Tampilkan hasil prediksi\n",
    "for i in range(len(nilai_x_prediksi)):\n",
    "    print(f\"Prediksi untuk x = {nilai_x_prediksi[i]}:\")\n",
    "    print(f\"  - Running Time: {prediksi_running_time[i]}\")\n",
    "    print(f\"  - Memory Used: {prediksi_memory_used[i]}\")\n",
    "    print(f\"  - Total Allocated Memory: {prediksi_total_allocated_memory[i]}\")\n",
    "    print()"
   ]
  }
 ],
 "metadata": {
  "kernelspec": {
   "display_name": "Python 3 (ipykernel)",
   "language": "python",
   "name": "python3"
  },
  "language_info": {
   "codemirror_mode": {
    "name": "ipython",
    "version": 3
   },
   "file_extension": ".py",
   "mimetype": "text/x-python",
   "name": "python",
   "nbconvert_exporter": "python",
   "pygments_lexer": "ipython3",
   "version": "3.9.13"
  }
 },
 "nbformat": 4,
 "nbformat_minor": 5
}
